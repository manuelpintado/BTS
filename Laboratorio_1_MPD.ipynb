{
 "cells": [
  {
   "cell_type": "markdown",
   "metadata": {},
   "source": [
    "<img src=\"http://oci02.img.iteso.mx/identidad_de_instancia_2018/ITESO/Logos%20ITESO/Logo-ITESO-Principal.jpg\">"
   ]
  },
  {
   "cell_type": "markdown",
   "metadata": {},
   "source": [
    "<center> <font color= #004A94> <font size = 6> Lic. Ingeniería Financiera </font> <br> <br> <font color= #047CFB> <font size = 4>I.F. Manuel Pintado Delfin - if707405@iteso.mx </font>"
   ]
  },
  {
   "cell_type": "markdown",
   "metadata": {},
   "source": [
    "<center><font color= #004A94> <font size = 6> Microestructura y Sistemas de Trading </font> <br> <br>"
   ]
  },
  {
   "cell_type": "markdown",
   "metadata": {},
   "source": [
    "<center><font color=#42c29b><font size=5> Laboratorio 1: Trading Manual </font> <br> <br>"
   ]
  },
  {
   "cell_type": "markdown",
   "metadata": {},
   "source": [
    "<center> <font color= #047CFB> <font size = 4> Primavera 2020 </font>  |  <font color= #047CFB> <font size = 4> Repositorio: <a href='https://github.com//manuelpintado/LAB_1_MPD'>Link</a></font>"
   ]
  },
  {
   "cell_type": "markdown",
   "metadata": {},
   "source": [
    "# Resumen"
   ]
  },
  {
   "cell_type": "markdown",
   "metadata": {},
   "source": [
    "Este fue un laboratorio en el que se aprendió a hacer trading de manera manual. A la mitad del tiempo se fue implementando alguna herramienta para poer tomar las decisiones. Este proyecto toma bandas de bollinger para realizar la toma de decisiones de compra o venta.\n",
    "\n",
    "* ` Dentro del archivo \"funciones\" se encuentran las herramientas para calcular las bandas y tomar la desición. `"
   ]
  },
  {
   "cell_type": "markdown",
   "metadata": {},
   "source": [
    "# Código"
   ]
  },
  {
   "cell_type": "code",
   "execution_count": 3,
   "metadata": {},
   "outputs": [],
   "source": [
    "# Importar librerias\n",
    "import funciones as fn\n",
    "import datos\n",
    "import pandas as pd\n",
    "from datetime import datetime"
   ]
  },
  {
   "cell_type": "code",
   "execution_count": 4,
   "metadata": {},
   "outputs": [],
   "source": [
    "# Datos para descargar precios\n",
    "OA_In = ['EUR_USD', 'USD_JPY', 'EUR_JPY', 'AUD_USD', 'GBP_USD', 'USD_CHF', 'AUD_JPY', 'EUR_AUD', 'EUR_GBP', 'GBP_JPY',\n",
    "         'USD_CAD', 'AUD_CAD', 'EUR_CAD', 'GBP_AUD', 'USD_HKD', 'GBP_HKD', 'CAD_HKD', 'USD_MXN']  # Instrumentos\n",
    "OA_Gn = \"H4\"  # Granularidad de velas\n",
    "fini = pd.to_datetime(\"2019-10-01 00:00:00\").tz_localize('GMT')  # Fecha inicial\n",
    "ffin = pd.to_datetime(datetime.now().strftime('%Y-%m-%d %H:%M:%S')).tz_localize('GMT')  # Fecha final"
   ]
  },
  {
   "cell_type": "code",
   "execution_count": 5,
   "metadata": {},
   "outputs": [
    {
     "name": "stdout",
     "output_type": "stream",
     "text": [
      "EUR_USD : Hold\n",
      "USD_JPY : Hold\n",
      "EUR_JPY : Hold\n",
      "AUD_USD : Hold\n",
      "GBP_USD : Hold\n",
      "USD_CHF : Hold\n",
      "AUD_JPY : Hold\n",
      "EUR_AUD : Hold\n",
      "EUR_GBP : Hold\n",
      "GBP_JPY : Hold\n",
      "USD_CAD : Hold\n",
      "AUD_CAD : Hold\n",
      "EUR_CAD : Hold\n",
      "GBP_AUD : Hold\n",
      "USD_HKD : Hold\n",
      "GBP_HKD : Hold\n",
      "CAD_HKD : Hold\n",
      "USD_MXN : Hold\n"
     ]
    }
   ],
   "source": [
    "# Calcular bandas y mandar señal de decision\n",
    "for ticker in OA_In:\n",
    "    # Descargar precios masivos\n",
    "    df_pe = fn.f_precios_masivos(p0_fini=fini, p1_ffin=ffin, p2_gran=OA_Gn,\n",
    "                                 p3_inst=ticker, p4_oatk=datos.token, p5_ginc=4900)\n",
    "\n",
    "    # Calcular bandas de bollinger\n",
    "    df_pe = fn.Bollinger_Bands(df=df_pe, window=20, ticker=ticker)\n",
    "\n",
    "    fn.accion(df_pe, ticker) #Funcion para tomar decision"
   ]
  },
  {
   "cell_type": "markdown",
   "metadata": {},
   "source": [
    "<p style='text-align: right;'> <font color= #047CFB> <font size = 1>I.F. Manuel Pintado Delfin - if707405@iteso.mx </font> </p>"
   ]
  }
 ],
 "metadata": {
  "kernelspec": {
   "display_name": "Python 3",
   "language": "python",
   "name": "python3"
  },
  "language_info": {
   "codemirror_mode": {
    "name": "ipython",
    "version": 3
   },
   "file_extension": ".py",
   "mimetype": "text/x-python",
   "name": "python",
   "nbconvert_exporter": "python",
   "pygments_lexer": "ipython3",
   "version": "3.7.3"
  }
 },
 "nbformat": 4,
 "nbformat_minor": 2
}
